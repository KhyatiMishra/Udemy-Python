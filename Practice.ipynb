{
 "cells": [
  {
   "cell_type": "code",
   "execution_count": 7,
   "metadata": {},
   "outputs": [],
   "source": [
    "def sumnum(a,b):\n",
    "    s = 0\n",
    "    for i in range(a,b):\n",
    "        if i%5 == 0:\n",
    "            print(i)\n",
    "            s = s+i\n",
    "    return print(s)\n"
   ]
  },
  {
   "cell_type": "code",
   "execution_count": 10,
   "metadata": {},
   "outputs": [
    {
     "name": "stdout",
     "output_type": "stream",
     "text": [
      "5\n",
      "10\n",
      "15\n",
      "30\n"
     ]
    }
   ],
   "source": [
    "sumnum(1,20)"
   ]
  },
  {
   "cell_type": "code",
   "execution_count": 16,
   "metadata": {},
   "outputs": [
    {
     "name": "stdin",
     "output_type": "stream",
     "text": [
      "Enter your text: hi how are\n",
      "Enter the character to be searched: h\n"
     ]
    },
    {
     "name": "stdout",
     "output_type": "stream",
     "text": [
      "Character count: 2\n"
     ]
    }
   ],
   "source": [
    "text = input(\"Enter your text:\")\n",
    "p = input(\"Enter the character to be searched:\")\n",
    "\n",
    "counter = 0\n",
    "length = len(text)\n",
    "\n",
    "for i in range(length):\n",
    "    if text[i] == p:\n",
    "        counter = counter+1\n",
    "print(\"Character count:\", counter)"
   ]
  },
  {
   "cell_type": "code",
   "execution_count": 8,
   "metadata": {},
   "outputs": [
    {
     "name": "stdout",
     "output_type": "stream",
     "text": [
      "0 1 1 2 3 5 8 13 21 34 55 89 144 233 377 610 987 1597 2584 4181 "
     ]
    }
   ],
   "source": [
    "## Fibonacci series : 0,1,1,2,3,5,8,13 ..\n",
    "\n",
    "x = range(20)\n",
    "n0 = 0\n",
    "n = 1\n",
    "n1 = 0\n",
    "for i in x:\n",
    "    print(n0, end = \" \") #0,1,\n",
    "    n1 = n0+n #1,2,3,5,8\n",
    "    n0 = n #1,1,2,3,    \n",
    "    n = n1 #1,2,3,4    "
   ]
  },
  {
   "cell_type": "code",
   "execution_count": 16,
   "metadata": {},
   "outputs": [
    {
     "name": "stdin",
     "output_type": "stream",
     "text": [
      "Enter values:  1\n",
      "Enter values:  4\n",
      "Enter values:  5\n",
      "Enter values:  3\n",
      "Enter values:  2\n",
      "Enter values:  e\n"
     ]
    },
    {
     "name": "stdout",
     "output_type": "stream",
     "text": [
      "Grades entered: [1.0, 4.0, 5.0, 3.0, 2.0]\n",
      "Sum of Grades: 15.0\n",
      "Avg of Grades: 3.0\n"
     ]
    }
   ],
   "source": [
    "#### LIST ####\n",
    "grades = []\n",
    "\n",
    "while True:\n",
    "    g = input(\"Enter values: \")\n",
    "    if g == 'e':\n",
    "        break\n",
    "    else:\n",
    "        g = float(g)\n",
    "        grades.append(g)\n",
    "\n",
    "s=0\n",
    "for i in grades:\n",
    "    s=s+i\n",
    "\n",
    "print(\"Grades entered:\", grades)\n",
    "print(\"Sum of Grades:\", s)\n",
    "print(\"Avg of Grades:\", s/len(grades))"
   ]
  },
  {
   "cell_type": "code",
   "execution_count": 2,
   "metadata": {},
   "outputs": [
    {
     "name": "stdout",
     "output_type": "stream",
     "text": [
      "length: 24\n",
      "10th character of x: l\n",
      "Upto 10th character of x: Khyati hel\n",
      "After 10th character of x: lo how are you\n",
      "list of x: ['K', 'h', 'y', 'a', 't', 'i', ' ', 'h', 'e', 'l', 'l', 'o', ' ', 'h', 'o', 'w', ' ', 'a', 'r', 'e', ' ', 'y', 'o', 'u']\n",
      "split of x: ['Khyati', 'hello', 'how', 'are', 'you']\n",
      "Upper Case: KHYATI HELLO HOW ARE YOU\n",
      "Lower Case: khyati hello how are you\n",
      "Camel Case: Khyati Hello How Are You\n",
      "Swapcase: kHYATI HELLO HOW ARE YOU\n"
     ]
    }
   ],
   "source": [
    " ### STRING MANIPULATIONS ###\n",
    "x = \"Khyati hello how are you\"\n",
    "print(\"length:\",len(x))\n",
    "print(\"10th character of x:\", x[10])\n",
    "print(\"Upto 10th character of x:\", x[:10]) #including 10th char\n",
    "print(\"After 10th character of x:\", x[10:]) #starts from 11\n",
    "print(\"list of x:\", list(x))\n",
    "print(\"split of x:\",x.split())\n",
    "print(\"Upper Case:\", x.upper())\n",
    "print(\"Lower Case:\", x.lower())\n",
    "print(\"Camel Case:\", x.title())\n",
    "print(\"Swapcase:\", x.swapcase())"
   ]
  },
  {
   "cell_type": "code",
   "execution_count": 4,
   "metadata": {},
   "outputs": [],
   "source": [
    "# find the angle btwn min and hr hand\n",
    "def calc_angle(time): #time format HH:MM - string\n",
    "    hr = int(time[:2])\n",
    "    mn = int(time[3:]) \n",
    "    \n",
    "    if hr >= 12:\n",
    "        hr = hr-12\n",
    "    else:\n",
    "        hr = hr\n",
    "        \n",
    "    hd = (hr*(360/12) + mn*(30/60))\n",
    "    md = mn * (360/60)\n",
    "    angle = abs(hd-md)\n",
    "    return angle\n",
    "#hr hand  1 hr = 60 min = 360 d; 1 min  = 6d ; 1hr = 30d = 5min\n",
    "    "
   ]
  },
  {
   "cell_type": "code",
   "execution_count": 9,
   "metadata": {},
   "outputs": [
    {
     "data": {
      "text/plain": [
       "10.0"
      ]
     },
     "execution_count": 9,
     "metadata": {},
     "output_type": "execute_result"
    }
   ],
   "source": [
    "calc_angle(\"04:20\")"
   ]
  },
  {
   "cell_type": "code",
   "execution_count": 17,
   "metadata": {},
   "outputs": [
    {
     "name": "stdout",
     "output_type": "stream",
     "text": [
      "TThhee\n"
     ]
    }
   ],
   "source": [
    "#double_char('The') → 'TThhee'\n",
    "x = 'The'\n",
    "l = len(x)\n",
    "c = 2\n",
    "y = \"\"\n",
    "for i in range(l):\n",
    "    while c > 0:\n",
    "        y = y+x[i]\n",
    "        c = c-1\n",
    "    c=2\n",
    "print(y)"
   ]
  },
  {
   "cell_type": "code",
   "execution_count": 24,
   "metadata": {},
   "outputs": [
    {
     "data": {
      "text/plain": [
       "['abc', 'hi', 'hi']"
      ]
     },
     "execution_count": 24,
     "metadata": {},
     "output_type": "execute_result"
    }
   ],
   "source": [
    "x = 'abc hi hi'\n",
    "y = x.split()\n",
    "y"
   ]
  }
 ],
 "metadata": {
  "kernelspec": {
   "display_name": "Python 3",
   "language": "python",
   "name": "python3"
  },
  "language_info": {
   "codemirror_mode": {
    "name": "ipython",
    "version": 3
   },
   "file_extension": ".py",
   "mimetype": "text/x-python",
   "name": "python",
   "nbconvert_exporter": "python",
   "pygments_lexer": "ipython3",
   "version": "3.7.4"
  }
 },
 "nbformat": 4,
 "nbformat_minor": 4
}
