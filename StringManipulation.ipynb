{
 "cells": [
  {
   "cell_type": "code",
   "execution_count": 19,
   "metadata": {},
   "outputs": [
    {
     "name": "stdout",
     "output_type": "stream",
     "text": [
      " itayhK\n"
     ]
    }
   ],
   "source": [
    "#writing a string in reverse order\n",
    "\n",
    "x = \"Khyati\"\n",
    "l = len(x)\n",
    "\n",
    "y = \" \" #reversed string\n",
    "\n",
    "while l>0:\n",
    "    y = y + x[l-1]\n",
    "    l = l-1\n",
    "print(y)"
   ]
  },
  {
   "cell_type": "code",
   "execution_count": 33,
   "metadata": {},
   "outputs": [
    {
     "name": "stdin",
     "output_type": "stream",
     "text": [
      "Enter your string here: Hello how are you\n"
     ]
    }
   ],
   "source": [
    "#split a user entered string into its words and print each of the word with the initial letter capitalized\n",
    "\n",
    "name = input(\"Enter your string here:\")"
   ]
  },
  {
   "cell_type": "code",
   "execution_count": 36,
   "metadata": {},
   "outputs": [
    {
     "name": "stdout",
     "output_type": "stream",
     "text": [
      "['Hello', 'how', 'are', 'you']\n"
     ]
    }
   ],
   "source": [
    "name1 = name.split()\n",
    "print(name1)"
   ]
  },
  {
   "cell_type": "code",
   "execution_count": 41,
   "metadata": {},
   "outputs": [
    {
     "name": "stdout",
     "output_type": "stream",
     "text": [
      "Hello How Are You "
     ]
    }
   ],
   "source": [
    "for word in name1 :   \n",
    "    print(word.title(), end = \" \")"
   ]
  },
  {
   "cell_type": "code",
   "execution_count": 39,
   "metadata": {},
   "outputs": [
    {
     "name": "stdin",
     "output_type": "stream",
     "text": [
      "enter string -  hi how are you\n"
     ]
    },
    {
     "name": "stdout",
     "output_type": "stream",
     "text": [
      "Hi\n",
      "How\n",
      "Are\n",
      "You\n"
     ]
    }
   ],
   "source": [
    "text = input ( \"enter string - \")\n",
    " \n",
    "for word in text.split() :\n",
    "    print ( word.title())"
   ]
  },
  {
   "cell_type": "code",
   "execution_count": 42,
   "metadata": {},
   "outputs": [
    {
     "data": {
      "text/plain": [
       "'HI HOW ARE YOU'"
      ]
     },
     "execution_count": 42,
     "metadata": {},
     "output_type": "execute_result"
    }
   ],
   "source": [
    "text.upper()"
   ]
  },
  {
   "cell_type": "code",
   "execution_count": 43,
   "metadata": {},
   "outputs": [
    {
     "data": {
      "text/plain": [
       "False"
      ]
     },
     "execution_count": 43,
     "metadata": {},
     "output_type": "execute_result"
    }
   ],
   "source": [
    "text.isalnum()"
   ]
  },
  {
   "cell_type": "code",
   "execution_count": 44,
   "metadata": {},
   "outputs": [
    {
     "name": "stdin",
     "output_type": "stream",
     "text": [
      "Enter String: What are you doing\n"
     ]
    }
   ],
   "source": [
    "#Find the number of occurrences of a character in a user entered string\n",
    "\n",
    "name = input(\"Enter String:\")"
   ]
  },
  {
   "cell_type": "code",
   "execution_count": 51,
   "metadata": {},
   "outputs": [
    {
     "name": "stdin",
     "output_type": "stream",
     "text": [
      "Enter character to search for: o\n"
     ]
    }
   ],
   "source": [
    "p = input(\"Enter character to search for:\")"
   ]
  },
  {
   "cell_type": "code",
   "execution_count": 53,
   "metadata": {},
   "outputs": [
    {
     "name": "stdout",
     "output_type": "stream",
     "text": [
      "Letter ' o ' occurs  2  times\n"
     ]
    }
   ],
   "source": [
    "counter = 0\n",
    "length = len(name)\n",
    "\n",
    "for i in range(length):\n",
    "    if name[i] == p:\n",
    "        counter = counter+1\n",
    "\n",
    "print(\"Letter '\", p, \"' occurs \", counter, \" times\")"
   ]
  },
  {
   "cell_type": "code",
   "execution_count": 54,
   "metadata": {},
   "outputs": [
    {
     "name": "stdout",
     "output_type": "stream",
     "text": [
      "1 14\n"
     ]
    }
   ],
   "source": [
    "#Find the number of occurrences of a lower case and upper case characters in a string\n",
    "\n",
    "counter_cap = 0\n",
    "counter_low = 0\n",
    "\n",
    "for i in range(length):\n",
    "    if name[i].isupper():\n",
    "        counter_cap = counter_cap+1\n",
    "    if name[i].islower():\n",
    "        counter_low = counter_low+1\n",
    "\n",
    "print(counter_cap, counter_low)"
   ]
  },
  {
   "cell_type": "code",
   "execution_count": 9,
   "metadata": {},
   "outputs": [
    {
     "data": {
      "text/plain": [
       "'oellh'"
      ]
     },
     "execution_count": 9,
     "metadata": {},
     "output_type": "execute_result"
    }
   ],
   "source": [
    "y = \"hello\"\n",
    "l = len(y)\n",
    "y1 = y[l-1]+y[1:(l-1)]+y[0]\n",
    "y1"
   ]
  },
  {
   "cell_type": "code",
   "execution_count": 13,
   "metadata": {},
   "outputs": [
    {
     "name": "stdout",
     "output_type": "stream",
     "text": [
      "0\n",
      "1\n",
      "2\n"
     ]
    }
   ],
   "source": [
    "y = range(3)\n",
    "for i in y:\n",
    "    print (i)"
   ]
  },
  {
   "cell_type": "code",
   "execution_count": null,
   "metadata": {},
   "outputs": [],
   "source": []
  }
 ],
 "metadata": {
  "kernelspec": {
   "display_name": "Python 3",
   "language": "python",
   "name": "python3"
  },
  "language_info": {
   "codemirror_mode": {
    "name": "ipython",
    "version": 3
   },
   "file_extension": ".py",
   "mimetype": "text/x-python",
   "name": "python",
   "nbconvert_exporter": "python",
   "pygments_lexer": "ipython3",
   "version": "3.7.4"
  }
 },
 "nbformat": 4,
 "nbformat_minor": 4
}
