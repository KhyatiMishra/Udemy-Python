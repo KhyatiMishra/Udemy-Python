{
 "cells": [
  {
   "cell_type": "code",
   "execution_count": 1,
   "metadata": {},
   "outputs": [
    {
     "name": "stdout",
     "output_type": "stream",
     "text": [
      "The 10th Odd Number is: 49\n"
     ]
    }
   ],
   "source": [
    "#print 10th odd number between 30-60:\n",
    "x = range(30,60)\n",
    "counter = 0\n",
    "for i in x:\n",
    "    if i%2 != 0:\n",
    "        counter += 1\n",
    "    if counter == 10:\n",
    "        break\n",
    "print(\"The 10th Odd Number is:\",i)"
   ]
  },
  {
   "cell_type": "code",
   "execution_count": 3,
   "metadata": {},
   "outputs": [
    {
     "name": "stdout",
     "output_type": "stream",
     "text": [
      "10th odd number is: 49\n"
     ]
    }
   ],
   "source": [
    "#using flag variable:\n",
    "counter = 1\n",
    "flag = False\n",
    "i = 30\n",
    "while flag == False:\n",
    "    if i%2 != 0:    \n",
    "        #print(i, counter)\n",
    "        if counter == 10:\n",
    "            flag = True\n",
    "            print(\"10th odd number is:\", i)\n",
    "        counter = counter+1\n",
    "    i=i+1"
   ]
  },
  {
   "cell_type": "code",
   "execution_count": null,
   "metadata": {},
   "outputs": [],
   "source": []
  }
 ],
 "metadata": {
  "kernelspec": {
   "display_name": "Python 3",
   "language": "python",
   "name": "python3"
  },
  "language_info": {
   "codemirror_mode": {
    "name": "ipython",
    "version": 3
   },
   "file_extension": ".py",
   "mimetype": "text/x-python",
   "name": "python",
   "nbconvert_exporter": "python",
   "pygments_lexer": "ipython3",
   "version": "3.7.4"
  }
 },
 "nbformat": 4,
 "nbformat_minor": 4
}
