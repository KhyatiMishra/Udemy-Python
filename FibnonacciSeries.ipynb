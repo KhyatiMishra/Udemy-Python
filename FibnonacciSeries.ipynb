{
 "cells": [
  {
   "cell_type": "code",
   "execution_count": 13,
   "metadata": {},
   "outputs": [
    {
     "name": "stdout",
     "output_type": "stream",
     "text": [
      "0 1 1 2 3 5 8 13 21 34 "
     ]
    }
   ],
   "source": [
    "# Fibonacci Series - 0,1,1,2,3,5,8,13,21,34 ..\n",
    "\n",
    "count = range(10)\n",
    "pre_num = 0\n",
    "num = 1\n",
    "x = str(pre_num)+\", \"+str(num)\n",
    "    \n",
    "for i in count:\n",
    "    next_num = pre_num+num\n",
    "   # x = x+\", \"+str(next_num)\n",
    "   # print (pre_num, num, next_num) \n",
    "    print(pre_num, end = \" \") #if end = \"\" is removed from this condition, then the numbers will be printed everytime when loop runs\n",
    "    pre_num = num\n",
    "    num = next_num\n",
    "    \n",
    "#print(x)"
   ]
  },
  {
   "cell_type": "code",
   "execution_count": 2,
   "metadata": {},
   "outputs": [
    {
     "name": "stdout",
     "output_type": "stream",
     "text": [
      "0, 1, 1, 2, 3, 5, 8, 13, 21, 34, 55, 89, 144, 233, 377, 610, 987, 1597, 2584, "
     ]
    }
   ],
   "source": [
    "#while loop\n",
    "c = 19\n",
    "pre_num = 0\n",
    "num = 1\n",
    "\n",
    "while c>0:\n",
    "    print(pre_num, end=\", \")\n",
    "    next_num = pre_num + num\n",
    "    pre_num = num\n",
    "    num = next_num\n",
    "    c = c-1"
   ]
  },
  {
   "cell_type": "code",
   "execution_count": 15,
   "metadata": {},
   "outputs": [
    {
     "name": "stdout",
     "output_type": "stream",
     "text": [
      "0, 1, 1, 2, 3, 5, 8, 13, 21, 34, 55, 89\n"
     ]
    }
   ],
   "source": [
    "count = range(10)\n",
    "pre_num = 0\n",
    "num = 1\n",
    "x = str(pre_num)+\", \"+str(num)\n",
    "    \n",
    "for i in count:\n",
    "    next_num = pre_num+num\n",
    "    x = x+\", \"+str(next_num)\n",
    "    pre_num = num\n",
    "    num = next_num\n",
    "    \n",
    "print(x)"
   ]
  },
  {
   "cell_type": "code",
   "execution_count": null,
   "metadata": {},
   "outputs": [],
   "source": []
  }
 ],
 "metadata": {
  "kernelspec": {
   "display_name": "Python 3",
   "language": "python",
   "name": "python3"
  },
  "language_info": {
   "codemirror_mode": {
    "name": "ipython",
    "version": 3
   },
   "file_extension": ".py",
   "mimetype": "text/x-python",
   "name": "python",
   "nbconvert_exporter": "python",
   "pygments_lexer": "ipython3",
   "version": "3.7.4"
  }
 },
 "nbformat": 4,
 "nbformat_minor": 4
}
