{
 "cells": [
  {
   "cell_type": "code",
   "execution_count": 1,
   "metadata": {},
   "outputs": [],
   "source": [
    "#Write a program to find avg grade\n",
    "Grades = []"
   ]
  },
  {
   "cell_type": "code",
   "execution_count": 3,
   "metadata": {},
   "outputs": [
    {
     "name": "stdout",
     "output_type": "stream",
     "text": [
      "Enter your choice:\n",
      "1 -> Enter Grade\n",
      "2 -> Show Grades\n",
      "3 -> Update Grades\n",
      "4 -> Delete Grades\n",
      "5 -> Calculate Grades Average\n",
      "6 -> Clear Grades\n",
      "7 -> Exit\n"
     ]
    },
    {
     "name": "stdin",
     "output_type": "stream",
     "text": [
      "-> 2\n"
     ]
    },
    {
     "name": "stdout",
     "output_type": "stream",
     "text": [
      "[3.4, 1.1, 7.8]\n",
      "Enter your choice:\n",
      "1 -> Enter Grade\n",
      "2 -> Show Grades\n",
      "3 -> Update Grades\n",
      "4 -> Delete Grades\n",
      "5 -> Calculate Grades Average\n",
      "6 -> Clear Grades\n",
      "7 -> Exit\n"
     ]
    },
    {
     "name": "stdin",
     "output_type": "stream",
     "text": [
      "-> 1\n"
     ]
    },
    {
     "name": "stdout",
     "output_type": "stream",
     "text": [
      "Enter grades or Press 'e' to exit\n"
     ]
    },
    {
     "name": "stdin",
     "output_type": "stream",
     "text": [
      "->  2.3\n",
      "->  5.8\n",
      "->  9.2\n",
      "->  3.6\n",
      "->  e\n"
     ]
    },
    {
     "name": "stdout",
     "output_type": "stream",
     "text": [
      "Enter your choice:\n",
      "1 -> Enter Grade\n",
      "2 -> Show Grades\n",
      "3 -> Update Grades\n",
      "4 -> Delete Grades\n",
      "5 -> Calculate Grades Average\n",
      "6 -> Clear Grades\n",
      "7 -> Exit\n"
     ]
    },
    {
     "name": "stdin",
     "output_type": "stream",
     "text": [
      "-> 2\n"
     ]
    },
    {
     "name": "stdout",
     "output_type": "stream",
     "text": [
      "[3.4, 1.1, 7.8, 2.3, 5.8, 9.2, 3.6]\n",
      "Enter your choice:\n",
      "1 -> Enter Grade\n",
      "2 -> Show Grades\n",
      "3 -> Update Grades\n",
      "4 -> Delete Grades\n",
      "5 -> Calculate Grades Average\n",
      "6 -> Clear Grades\n",
      "7 -> Exit\n"
     ]
    },
    {
     "name": "stdin",
     "output_type": "stream",
     "text": [
      "-> 5\n"
     ]
    },
    {
     "name": "stdout",
     "output_type": "stream",
     "text": [
      "Average of Grades is: 4.15\n",
      "Enter your choice:\n",
      "1 -> Enter Grade\n",
      "2 -> Show Grades\n",
      "3 -> Update Grades\n",
      "4 -> Delete Grades\n",
      "5 -> Calculate Grades Average\n",
      "6 -> Clear Grades\n",
      "7 -> Exit\n"
     ]
    },
    {
     "name": "stdin",
     "output_type": "stream",
     "text": [
      "-> 7\n"
     ]
    }
   ],
   "source": [
    "while True :\n",
    "    print(\"Enter your choice:\")\n",
    "    print(\"1 -> Enter Grade\")\n",
    "    print(\"2 -> Show Grades\")\n",
    "    print(\"3 -> Update Grades\")\n",
    "    print(\"4 -> Delete Grades\")\n",
    "    print(\"5 -> Calculate Grades Average\")\n",
    "    print(\"6 -> Clear Grades\")\n",
    "    print(\"7 -> Exit\")\n",
    "\n",
    "    choice = input ( \"->\")\n",
    "\n",
    "    if not (len(choice) == 1 and choice.isnumeric()) :\n",
    "        print(\"Enter a valid choice\")\n",
    "        continue\n",
    "        \n",
    "    if int(choice) == 1: #enter grades\n",
    "        print(\"Enter grades or Press 'e' to exit\")\n",
    "        \n",
    "        while True:\n",
    "            grade = input(\"-> \")\n",
    "            if grade == \"e\":\n",
    "                break\n",
    "            else:\n",
    "                grade = float(grade)\n",
    "                Grades.append(grade)\n",
    "                \n",
    "    if int(choice) == 2: #show grades\n",
    "        print (Grades)\n",
    "        \n",
    "    if int(choice) == 3: #update grades\n",
    "        print(Grades)\n",
    "        print(\"Enter the index of grade to be updated and the updated number ->\")\n",
    "        i = int(input(\"Index / position ->\"))\n",
    "        while i > (len(Grades) - 1) or i < 0:\n",
    "            print(\"Invalid Input; Enter valid index number\")\n",
    "            i =  int(input(\"Index / position ->\"))\n",
    "        j = float(input(\"Updated grade value ->\"))\n",
    "        Grades[i] = j\n",
    "    \n",
    "    if int(choice) == 4: #delete grades\n",
    "        print(Grades)\n",
    "        i = int(input(\"Enter the index of grade to be removed from the list ->\"))\n",
    "        while i > (len(Grades) - 1) or i < 0:\n",
    "            print(\"Invalid Input; Enter valid index number\")\n",
    "            i = int(input(\"Enter the index of grade to be removed from the list ->\"))\n",
    "        Grades.pop(i)\n",
    "        print(\"Grade removed from the list\")\n",
    "        \n",
    "    if int(choice) == 5: #grade avg\n",
    "        s = 0\n",
    "        for i in Grades:\n",
    "            s = s + i\n",
    "        avg = s / (len(Grades)+1)\n",
    "        print (\"Average of Grades is:\", avg)\n",
    "        \n",
    "    if int(choice) == 6: #clear grades\n",
    "        Grades.clear()\n",
    "        print(Grades)\n",
    "                 \n",
    "    if int(choice) == 7: #exit\n",
    "        break"
   ]
  },
  {
   "cell_type": "code",
   "execution_count": null,
   "metadata": {},
   "outputs": [],
   "source": []
  },
  {
   "cell_type": "code",
   "execution_count": null,
   "metadata": {},
   "outputs": [],
   "source": []
  }
 ],
 "metadata": {
  "kernelspec": {
   "display_name": "Python 3",
   "language": "python",
   "name": "python3"
  },
  "language_info": {
   "codemirror_mode": {
    "name": "ipython",
    "version": 3
   },
   "file_extension": ".py",
   "mimetype": "text/x-python",
   "name": "python",
   "nbconvert_exporter": "python",
   "pygments_lexer": "ipython3",
   "version": "3.7.4"
  }
 },
 "nbformat": 4,
 "nbformat_minor": 4
}
