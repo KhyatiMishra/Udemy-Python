{
 "cells": [
  {
   "cell_type": "code",
   "execution_count": null,
   "metadata": {},
   "outputs": [],
   "source": [
    "current_floor = 7\n",
    "user_floor = 5\n",
    "emergency = False"
   ]
  },
  {
   "cell_type": "code",
   "execution_count": null,
   "metadata": {},
   "outputs": [],
   "source": [
    "diff = user_floor - current_floor\n",
    "\n",
    "if diff < 0:\n",
    "    if emergency == False :\n",
    "        current_floor = user_floor\n",
    "        print (\"Move Down\")\n",
    "    \n",
    "elif diff > 0:\n",
    "    if emergency == False :\n",
    "        current_floor = user_floor\n",
    "        print (\"Move Up\")\n",
    "\n",
    "else :\n",
    "    print (\"Open Door\")"
   ]
  },
  {
   "cell_type": "code",
   "execution_count": null,
   "metadata": {},
   "outputs": [],
   "source": []
  }
 ],
 "metadata": {
  "kernelspec": {
   "display_name": "Python 3",
   "language": "python",
   "name": "python3"
  },
  "language_info": {
   "codemirror_mode": {
    "name": "ipython",
    "version": 3
   },
   "file_extension": ".py",
   "mimetype": "text/x-python",
   "name": "python",
   "nbconvert_exporter": "python",
   "pygments_lexer": "ipython3",
   "version": "3.7.4"
  }
 },
 "nbformat": 4,
 "nbformat_minor": 4
}
