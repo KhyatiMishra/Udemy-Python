{
 "cells": [
  {
   "cell_type": "code",
   "execution_count": 15,
   "metadata": {},
   "outputs": [],
   "source": [
    "def calculate_interest(balance, interest, days):\n",
    "    interest_amt = balance * (interest/100)* (days/365)\n",
    "    return interest_amt"
   ]
  },
  {
   "cell_type": "code",
   "execution_count": 16,
   "metadata": {},
   "outputs": [
    {
     "data": {
      "text/plain": [
       "27.397260273972602"
      ]
     },
     "execution_count": 16,
     "metadata": {},
     "output_type": "execute_result"
    }
   ],
   "source": [
    "calculate_interest(10000,5,20)"
   ]
  },
  {
   "cell_type": "code",
   "execution_count": 3,
   "metadata": {},
   "outputs": [],
   "source": [
    "#Write a function that takes in 2 numbers. Find out all the numbers divisible by 5 between those numbers and add them up. Return the sum.\n",
    "\n",
    "def sumofnum (first_num, last_num):\n",
    "    s = 0\n",
    "    for i in range(first_num, last_num):\n",
    "        if i % 5 == 0:\n",
    "            s = s + i\n",
    "    return s"
   ]
  },
  {
   "cell_type": "code",
   "execution_count": 4,
   "metadata": {},
   "outputs": [
    {
     "data": {
      "text/plain": [
       "5"
      ]
     },
     "execution_count": 4,
     "metadata": {},
     "output_type": "execute_result"
    }
   ],
   "source": [
    "sumofnum(1,10)"
   ]
  },
  {
   "cell_type": "code",
   "execution_count": 5,
   "metadata": {},
   "outputs": [],
   "source": [
    "# Create a function that takes in an integer and finds out the sum of all the odd numbers between 1 and the given input integer\n",
    "\n",
    "def alternate_odd (n) :\n",
    "    s = 0\n",
    "    counter = 0\n",
    "    for i in range(1,n+1):\n",
    "        if i % 2 != 0:\n",
    "            counter = counter + 1\n",
    "            if counter % 2 != 0:\n",
    "                s = s + i\n",
    "    return s   "
   ]
  },
  {
   "cell_type": "code",
   "execution_count": 6,
   "metadata": {},
   "outputs": [
    {
     "data": {
      "text/plain": [
       "630"
      ]
     },
     "execution_count": 6,
     "metadata": {},
     "output_type": "execute_result"
    }
   ],
   "source": [
    "alternate_odd(69)"
   ]
  },
  {
   "cell_type": "code",
   "execution_count": 4,
   "metadata": {},
   "outputs": [],
   "source": [
    "# return the first prime number between number_1 and number_2\n",
    "\n",
    "def first_prime (n1,n2):\n",
    "    for i in range(n1,n2):\n",
    "        for j in range(1,i):\n",
    "            if i%j == 0:\n",
    "                if j == 1 and j == i:\n",
    "                    return i\n",
    "              #  i%j != 0 # if divisible by any other number than 1 or itself, then not a prime               \n",
    "       # break    "
   ]
  },
  {
   "cell_type": "code",
   "execution_count": 11,
   "metadata": {},
   "outputs": [],
   "source": [
    "first_prime(2,5)"
   ]
  },
  {
   "cell_type": "code",
   "execution_count": 6,
   "metadata": {},
   "outputs": [],
   "source": [
    "# define a function to return nth fibonacci number:\n",
    "def fib (n) : \n",
    "    counter = 0\n",
    "    pre = 0\n",
    "    cur = 1\n",
    "    nxt = 0\n",
    "    for i in range(1,n+1):\n",
    "        nxt = pre + cur\n",
    "        counter = counter+1\n",
    "       # print(pre, cur, nxt, counter)\n",
    "        if counter == n:\n",
    "            return pre\n",
    "            break\n",
    "        pre = cur\n",
    "        cur = nxt"
   ]
  },
  {
   "cell_type": "code",
   "execution_count": 9,
   "metadata": {},
   "outputs": [
    {
     "data": {
      "text/plain": [
       "34"
      ]
     },
     "execution_count": 9,
     "metadata": {},
     "output_type": "execute_result"
    }
   ],
   "source": [
    "fib(10)"
   ]
  },
  {
   "cell_type": "code",
   "execution_count": 11,
   "metadata": {},
   "outputs": [],
   "source": [
    "#write a function to return a pattern - a|b a-b a|b a-b a|b a-b a|b a-b a|b a-b \n",
    "def pattern (str_1, str_2) :\n",
    "    counter = 0\n",
    "    n = 10\n",
    "    s = \"\"\n",
    "    str_1 = str(str_1)\n",
    "    str_2 = str(str_2)\n",
    "    while n>0:\n",
    "        counter = counter + 1\n",
    "        if counter%2 !=0:\n",
    "            if counter == 1:\n",
    "                s = s + str_1+\"|\"+str_2\n",
    "            else:\n",
    "                s = s + ' '+ str_1+\"|\"+str_2\n",
    "        else:\n",
    "            s = s + ' '+  str_1+\"-\"+str_2\n",
    "        n = n-1\n",
    "    return s\n",
    "        "
   ]
  },
  {
   "cell_type": "code",
   "execution_count": 12,
   "metadata": {},
   "outputs": [
    {
     "data": {
      "text/plain": [
       "'D|W D-W D|W D-W D|W D-W D|W D-W D|W D-W'"
      ]
     },
     "execution_count": 12,
     "metadata": {},
     "output_type": "execute_result"
    }
   ],
   "source": [
    "pattern('D','W')"
   ]
  },
  {
   "cell_type": "code",
   "execution_count": 13,
   "metadata": {},
   "outputs": [],
   "source": [
    "#Define a function that reverses an input string\n",
    "def reverse (name) :\n",
    "    l = len(name)\n",
    "    y = \"\"\n",
    "    while l>0:\n",
    "        y = y + name[l-1]\n",
    "        l=l-1\n",
    "    return y"
   ]
  },
  {
   "cell_type": "code",
   "execution_count": 14,
   "metadata": {},
   "outputs": [
    {
     "data": {
      "text/plain": [
       "'olleH'"
      ]
     },
     "execution_count": 14,
     "metadata": {},
     "output_type": "execute_result"
    }
   ],
   "source": [
    "reverse(\"Hello\")"
   ]
  },
  {
   "cell_type": "code",
   "execution_count": null,
   "metadata": {},
   "outputs": [],
   "source": []
  }
 ],
 "metadata": {
  "kernelspec": {
   "display_name": "Python 3",
   "language": "python",
   "name": "python3"
  },
  "language_info": {
   "codemirror_mode": {
    "name": "ipython",
    "version": 3
   },
   "file_extension": ".py",
   "mimetype": "text/x-python",
   "name": "python",
   "nbconvert_exporter": "python",
   "pygments_lexer": "ipython3",
   "version": "3.7.4"
  }
 },
 "nbformat": 4,
 "nbformat_minor": 4
}
